{
 "cells": [
  {
   "cell_type": "code",
   "execution_count": 1,
   "metadata": {},
   "outputs": [
    {
     "name": "stdout",
     "output_type": "stream",
     "text": [
      "{'batch_size': 512, 'warm_up': 10, 'epochs': 100, 'load_model': 'None', 'eval_every_n_epochs': 1, 'save_every_n_epochs': 5, 'log_every_n_steps': 50, 'fp16_precision': False, 'init_lr': 0.0005, 'weight_decay': '1e-5', 'gpu': 'cuda:0', 'model_type': 'gin', 'model': {'num_layer': 5, 'emb_dim': 300, 'feat_dim': 512, 'drop_ratio': 0, 'pool': 'mean'}, 'aug': 'node', 'dataset': {'num_workers': 12, 'valid_size': 0.05, 'data_path': 'data/pubchem-10m-clean.txt'}, 'loss': {'temperature': 0.1, 'use_cosine_similarity': True}}\n"
     ]
    }
   ],
   "source": [
    "import yaml\n",
    "config = yaml.load(open(\"config.yaml\", \"r\"), Loader=yaml.FullLoader)\n",
    "print(config)"
   ]
  },
  {
   "cell_type": "code",
   "execution_count": 15,
   "metadata": {},
   "outputs": [
    {
     "data": {
      "text/plain": [
       "torch.Size([4, 2])"
      ]
     },
     "execution_count": 15,
     "metadata": {},
     "output_type": "execute_result"
    }
   ],
   "source": [
    "import torch\n",
    "a=torch.randn(4,1)\n",
    "b=torch.rand(4,1)\n",
    "c=torch.cat((a,b),dim=1)\n",
    "c.size()"
   ]
  },
  {
   "cell_type": "code",
   "execution_count": 16,
   "metadata": {},
   "outputs": [
    {
     "name": "stdout",
     "output_type": "stream",
     "text": [
      "NT-Xent Loss: 3.8967463970184326\n"
     ]
    }
   ],
   "source": [
    "from utils.nt_xent import NTXentLoss\n",
    "# Assume we have a batch of 2D embeddings (for simplicity)\n",
    "zis = torch.randn(10, 2)  # 10 samples, each with a 2D embedding\n",
    "zjs = torch.randn(10, 2)  # 10 samples, each with a 2D embedding\n",
    "\n",
    "# Initialize the NTXentLoss module\n",
    "nt_xent_loss = NTXentLoss(device='cpu', batch_size=10, temperature=0.5, use_cosine_similarity=True)\n",
    "\n",
    "# Compute the loss\n",
    "loss = nt_xent_loss(zis, zjs)\n",
    "\n",
    "# print(f\"NT-Xent Loss: {loss.item()}\")\n"
   ]
  },
  {
   "cell_type": "code",
   "execution_count": 19,
   "metadata": {},
   "outputs": [
    {
     "name": "stdout",
     "output_type": "stream",
     "text": [
      "tensor(269.2440)\n"
     ]
    }
   ],
   "source": [
    "import torch\n",
    "import torch.nn as nn\n",
    "\n",
    "class MyModel(nn.Module):\n",
    "    def __init__(self, batch_size, temperature, device):\n",
    "        super(MyModel, self).__init__()\n",
    "        self.batch_size = batch_size\n",
    "        self.temperature = temperature\n",
    "        self.device = device\n",
    "        self.criterion = nn.CrossEntropyLoss()\n",
    "        self.mask_samples_from_same_repr = self._create_mask()\n",
    "\n",
    "    def _create_mask(self):\n",
    "        # Create a mask to filter out the scores from the positive samples\n",
    "        mask = torch.ones((2 * self.batch_size, 2 * self.batch_size))\n",
    "        mask = mask.fill_diagonal_(0)\n",
    "        return mask.bool()\n",
    "\n",
    "    def similarity_function(self, representations1, representations2):\n",
    "        # Define your similarity function here\n",
    "        return torch.mm(representations1, representations2.t())\n",
    "\n",
    "    def forward(self, representations):\n",
    "        similarity_matrix = self.similarity_function(representations, representations)\n",
    "\n",
    "        l_pos = torch.diag(similarity_matrix, self.batch_size)\n",
    "        r_pos = torch.diag(similarity_matrix, -self.batch_size)\n",
    "        positives = torch.cat([l_pos, r_pos]).view(2 * self.batch_size, 1)\n",
    "\n",
    "        negatives = similarity_matrix[self.mask_samples_from_same_repr].view(2 * self.batch_size, -1)\n",
    "\n",
    "        logits = torch.cat((positives, negatives), dim=1)\n",
    "        logits /= self.temperature\n",
    "\n",
    "        labels = torch.zeros(2 * self.batch_size).to(self.device).long()\n",
    "        loss = self.criterion(logits, labels)\n",
    "\n",
    "        return loss\n",
    "\n",
    "# Initialize your model\n",
    "model = MyModel(batch_size=32, temperature=0.1, device='cpu')\n",
    "\n",
    "# Create some dummy data for representations\n",
    "representations = torch.randn(64, 128)\n",
    "\n",
    "# Run the model\n",
    "loss = model(representations)\n",
    "print(loss)\n"
   ]
  }
 ],
 "metadata": {
  "kernelspec": {
   "display_name": "GIN_korea",
   "language": "python",
   "name": "python3"
  },
  "language_info": {
   "codemirror_mode": {
    "name": "ipython",
    "version": 3
   },
   "file_extension": ".py",
   "mimetype": "text/x-python",
   "name": "python",
   "nbconvert_exporter": "python",
   "pygments_lexer": "ipython3",
   "version": "3.11.0"
  }
 },
 "nbformat": 4,
 "nbformat_minor": 2
}
